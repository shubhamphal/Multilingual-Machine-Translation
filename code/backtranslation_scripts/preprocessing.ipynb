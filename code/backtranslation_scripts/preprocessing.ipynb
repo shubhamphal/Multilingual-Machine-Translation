{
 "cells": [
  {
   "cell_type": "raw",
   "id": "714f1842-ea8a-45d3-b1ea-3df1bccb3bc7",
   "metadata": {},
   "source": [
    "Please upload the following ipython notebook to colab"
   ]
  },
  {
   "cell_type": "code",
   "execution_count": null,
   "id": "0b06be99-c987-4aca-803e-ac9e1648e0b0",
   "metadata": {},
   "outputs": [],
   "source": [
    "!wget http://data.statmt.org/cc-100/az.txt.xz"
   ]
  },
  {
   "cell_type": "code",
   "execution_count": null,
   "id": "bed39b08-8393-4e78-89ab-30303bda4e87",
   "metadata": {},
   "outputs": [],
   "source": [
    "!xz -d az.txt.xz"
   ]
  },
  {
   "cell_type": "code",
   "execution_count": null,
   "id": "2c8cdd13-699b-45b9-a491-337d44f01170",
   "metadata": {},
   "outputs": [],
   "source": [
    "!head -2000000 az.txt > az_mono_compressed.txt"
   ]
  },
  {
   "cell_type": "code",
   "execution_count": null,
   "id": "7f8bcba6-6648-40f5-b924-c9ca498c21cc",
   "metadata": {},
   "outputs": [],
   "source": [
    "with open('az_mono_compressed.txt') as f:\n",
    "    aze_mono_lines = f.readlines()"
   ]
  },
  {
   "cell_type": "code",
   "execution_count": null,
   "id": "ea29e6ec-2d5e-49a7-bcb8-cea01d3314a9",
   "metadata": {},
   "outputs": [],
   "source": [
    "with open('ted-train.orig.aze') as f1:\n",
    "    ted_orig_aze = f1.readlines()"
   ]
  },
  {
   "cell_type": "code",
   "execution_count": null,
   "id": "85b3d531-7665-4caa-a203-6438c4c51079",
   "metadata": {},
   "outputs": [],
   "source": [
    "aze_tokens = []\n",
    "for line in ted_orig_aze:\n",
    "    for token in line.split(' '):\n",
    "        if len(token) > 2:\n",
    "            aze_tokens.append(token)"
   ]
  },
  {
   "cell_type": "code",
   "execution_count": null,
   "id": "f5f37073-264c-4d87-8957-7f11a3070bc9",
   "metadata": {},
   "outputs": [],
   "source": [
    "from collections import Counter \n",
    "import re"
   ]
  },
  {
   "cell_type": "code",
   "execution_count": null,
   "id": "f664f6fa-2522-4642-a733-a39b63610c53",
   "metadata": {},
   "outputs": [],
   "source": [
    "aze_token_frequency = Counter(aze_tokens)"
   ]
  },
  {
   "cell_type": "code",
   "execution_count": null,
   "id": "42b114a9-bc18-4920-a306-2b8effdaae07",
   "metadata": {},
   "outputs": [],
   "source": [
    "most_common_aze_tokens = aze_token_frequency.most_common(10000)"
   ]
  },
  {
   "cell_type": "code",
   "execution_count": null,
   "id": "0c9dbda1-962b-4453-91c6-b062748c42c6",
   "metadata": {},
   "outputs": [],
   "source": [
    "most_common_aze_tokens = set([token[0] for token in most_common_aze_tokens])"
   ]
  },
  {
   "cell_type": "code",
   "execution_count": null,
   "id": "868db431-dd39-4406-9ad2-a593f70d94fc",
   "metadata": {},
   "outputs": [],
   "source": [
    "preprocessed = []\n",
    "for line in aze_mono_lines:\n",
    "    output = re.sub('\\d', '', line)\n",
    "    output = re.sub(r'[^\\w\\s]','',output)\n",
    "    preprocessed_tokens = set(output.split(' '))\n",
    "    if len(preprocessed_tokens) > 2 and len(preprocessed_tokens.intersection(most_common_aze_tokens)) >= 9 and len(preprocessed_tokens) <= 15 :\n",
    "        preprocessed.append(output)  "
   ]
  },
  {
   "cell_type": "code",
   "execution_count": null,
   "id": "8476c85c-8e2d-4bdf-b641-e96c2535f6c7",
   "metadata": {},
   "outputs": [],
   "source": [
    "len(preprocessed)"
   ]
  },
  {
   "cell_type": "code",
   "execution_count": null,
   "id": "b4395a5d-c97c-4336-8f7c-c80ffe98a46c",
   "metadata": {},
   "outputs": [],
   "source": [
    "avg_length = 0\n",
    "for line in ted_orig_aze:\n",
    "    avg_length += len(line.split(' '))\n",
    "print(avg_length/len(ted_orig_aze))"
   ]
  },
  {
   "cell_type": "code",
   "execution_count": null,
   "id": "319f3be8-a334-4e4f-82dc-caf5f64a26de",
   "metadata": {},
   "outputs": [],
   "source": [
    "with open('preprocessed_mono_aze.txt','w') as f3:\n",
    "    f3.writelines(preprocessed)"
   ]
  }
 ],
 "metadata": {
  "kernelspec": {
   "display_name": "Python 3 (ipykernel)",
   "language": "python",
   "name": "python3"
  },
  "language_info": {
   "codemirror_mode": {
    "name": "ipython",
    "version": 3
   },
   "file_extension": ".py",
   "mimetype": "text/x-python",
   "name": "python",
   "nbconvert_exporter": "python",
   "pygments_lexer": "ipython3",
   "version": "3.8.10"
  }
 },
 "nbformat": 4,
 "nbformat_minor": 5
}
